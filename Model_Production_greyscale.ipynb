{
 "cells": [
  {
   "cell_type": "markdown",
   "id": "b87752d6",
   "metadata": {},
   "source": [
    "# Color image to Greyscale "
   ]
  },
  {
   "cell_type": "code",
   "execution_count": 2,
   "id": "3891b759",
   "metadata": {},
   "outputs": [],
   "source": [
    "from PIL import Image"
   ]
  },
  {
   "cell_type": "code",
   "execution_count": 9,
   "id": "65294204",
   "metadata": {},
   "outputs": [
    {
     "name": "stdout",
     "output_type": "stream",
     "text": [
      "The format of the image is : JPEG\n"
     ]
    }
   ],
   "source": [
    "color_im = Image.open(r\"C:\\Users\\udaya\\Downloads\\A_Prod_P1\\Input\\in2.jpg\")\n",
    "print(\"The format of the image is :\",color_im.format)"
   ]
  },
  {
   "cell_type": "code",
   "execution_count": 10,
   "id": "b3f348fa",
   "metadata": {},
   "outputs": [
    {
     "name": "stdout",
     "output_type": "stream",
     "text": [
      "<PIL.JpegImagePlugin.JpegImageFile image mode=RGB size=1280x853 at 0x29B9B564490>\n"
     ]
    }
   ],
   "source": [
    "# here we can convert the format (jpeg) to png by saving it with the requied extension .png\n",
    "color_im.save('swati2.png')\n",
    "print(color_im) # by this we can see the mode , size "
   ]
  },
  {
   "cell_type": "code",
   "execution_count": 12,
   "id": "37d73927",
   "metadata": {},
   "outputs": [
    {
     "name": "stdout",
     "output_type": "stream",
     "text": [
      "The dimensions of the color_resize image is : (450, 450)\n"
     ]
    }
   ],
   "source": [
    "# to resize the image to 450 x450 \n",
    "color_resize=color_im.resize((450,450))\n",
    "print(\"The dimensions of the color_resize image is :\",color_resize.size)"
   ]
  },
  {
   "cell_type": "code",
   "execution_count": 13,
   "id": "12408f3f",
   "metadata": {},
   "outputs": [
    {
     "name": "stdout",
     "output_type": "stream",
     "text": [
      "(450, 450)\n",
      "<PIL.Image.Image image mode=L size=450x450 at 0x29B9B5703A0>  THe outcome is in greyscale mode\n"
     ]
    }
   ],
   "source": [
    "# To convert color image to grey scale \n",
    "greyscale_img = color_resize.convert('L')\n",
    "greyscale_img\n",
    "greyscale_img.save('wasthiswati2.png')\n",
    "print(greyscale_img.size)\n",
    "print(greyscale_img ,\" THe outcome is in greyscale mode\")#observe the mode ,'L'\n",
    "# it indicates the output image has greyscale mode"
   ]
  }
 ],
 "metadata": {
  "kernelspec": {
   "display_name": "Python 3",
   "language": "python",
   "name": "python3"
  },
  "language_info": {
   "codemirror_mode": {
    "name": "ipython",
    "version": 3
   },
   "file_extension": ".py",
   "mimetype": "text/x-python",
   "name": "python",
   "nbconvert_exporter": "python",
   "pygments_lexer": "ipython3",
   "version": "3.8.8"
  }
 },
 "nbformat": 4,
 "nbformat_minor": 5
}
